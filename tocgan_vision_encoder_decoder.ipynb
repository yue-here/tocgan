{
 "cells": [
  {
   "cell_type": "markdown",
   "metadata": {},
   "source": [
    "# Code to train a vision encoder-decoder model\n",
    "Warm-start a huggingface transformers vision encoder-decoder and then train it on chemistry ToC images + paper titles.\n",
    "\n",
    "Informed by this tutorial:\n",
    "https://github.com/NielsRogge/Transformers-Tutorials/blob/master/TrOCR/Fine_tune_TrOCR_on_IAM_Handwriting_Database_using_Seq2SeqTrainer.ipynb\n"
   ]
  },
  {
   "cell_type": "markdown",
   "metadata": {},
   "source": [
    "Check memory usage with !nvidia-smi (if running in a notebook, the kernel needs to be restarted to clear the memory)"
   ]
  },
  {
   "cell_type": "code",
   "execution_count": null,
   "metadata": {},
   "outputs": [],
   "source": [
    "!nvidia-smi"
   ]
  },
  {
   "cell_type": "markdown",
   "metadata": {},
   "source": [
    "For references on the seq2seq trainer to train this model see also: https://huggingface.co/course/chapter7/4?fw=pt"
   ]
  },
  {
   "cell_type": "markdown",
   "metadata": {},
   "source": [
    "Initiate training dataframes from a csv and folder with training images"
   ]
  },
  {
   "cell_type": "code",
   "execution_count": 2,
   "metadata": {},
   "outputs": [
    {
     "data": {
      "text/html": [
       "<div>\n",
       "<style scoped>\n",
       "    .dataframe tbody tr th:only-of-type {\n",
       "        vertical-align: middle;\n",
       "    }\n",
       "\n",
       "    .dataframe tbody tr th {\n",
       "        vertical-align: top;\n",
       "    }\n",
       "\n",
       "    .dataframe thead th {\n",
       "        text-align: right;\n",
       "    }\n",
       "</style>\n",
       "<table border=\"1\" class=\"dataframe\">\n",
       "  <thead>\n",
       "    <tr style=\"text-align: right;\">\n",
       "      <th></th>\n",
       "      <th>title</th>\n",
       "      <th>file_name</th>\n",
       "      <th>Abstract</th>\n",
       "    </tr>\n",
       "  </thead>\n",
       "  <tbody>\n",
       "    <tr>\n",
       "      <th>0</th>\n",
       "      <td>Unexpected Formation of NHC-Stabilized Hydrosi...</td>\n",
       "      <td>ja-2015-063665_0002.png</td>\n",
       "      <td>b'N-heterocyclic carbene (NHC)-stabilized hydr...</td>\n",
       "    </tr>\n",
       "    <tr>\n",
       "      <th>1</th>\n",
       "      <td>Genome-Based Deletion Analysis Reveals the Pre...</td>\n",
       "      <td>ja-2010-096682_0007.png</td>\n",
       "      <td>b'Xanthones are a class of molecules that bind...</td>\n",
       "    </tr>\n",
       "    <tr>\n",
       "      <th>2</th>\n",
       "      <td>Mechanistic Insights on Azide−Nitrile Cycloadd...</td>\n",
       "      <td>ja-2010-09700b_0002.png</td>\n",
       "      <td>b'The mechanism of the azide\\xe2\\x88\\x92nitril...</td>\n",
       "    </tr>\n",
       "    <tr>\n",
       "      <th>3</th>\n",
       "      <td>Ruthenium-Catalyzed Olefin Cross-Metathesis wi...</td>\n",
       "      <td>ja-2015-033426_0009.png</td>\n",
       "      <td>b'This Communication describes a successful ol...</td>\n",
       "    </tr>\n",
       "    <tr>\n",
       "      <th>4</th>\n",
       "      <td>Optimizing Sensitization Processes in Dinuclea...</td>\n",
       "      <td>ja-2011-06806t_0003.png</td>\n",
       "      <td>b'This work illustrates a simple approach for ...</td>\n",
       "    </tr>\n",
       "  </tbody>\n",
       "</table>\n",
       "</div>"
      ],
      "text/plain": [
       "                                               title                file_name  \\\n",
       "0  Unexpected Formation of NHC-Stabilized Hydrosi...  ja-2015-063665_0002.png   \n",
       "1  Genome-Based Deletion Analysis Reveals the Pre...  ja-2010-096682_0007.png   \n",
       "2  Mechanistic Insights on Azide−Nitrile Cycloadd...  ja-2010-09700b_0002.png   \n",
       "3  Ruthenium-Catalyzed Olefin Cross-Metathesis wi...  ja-2015-033426_0009.png   \n",
       "4  Optimizing Sensitization Processes in Dinuclea...  ja-2011-06806t_0003.png   \n",
       "\n",
       "                                            Abstract  \n",
       "0  b'N-heterocyclic carbene (NHC)-stabilized hydr...  \n",
       "1  b'Xanthones are a class of molecules that bind...  \n",
       "2  b'The mechanism of the azide\\xe2\\x88\\x92nitril...  \n",
       "3  b'This Communication describes a successful ol...  \n",
       "4  b'This work illustrates a simple approach for ...  "
      ]
     },
     "execution_count": 2,
     "metadata": {},
     "output_type": "execute_result"
    }
   ],
   "source": [
    "import pandas as pd\n",
    "from ast import literal_eval\n",
    "import os\n",
    "\n",
    "# Load the csv\n",
    "headings = ['title', 'file_name', 'Abstract']\n",
    "df = pd.read_csv('data.csv', names = headings)\n",
    "\n",
    "# Drop null values\n",
    "df = df.mask(df.eq('None')).dropna()\n",
    "\n",
    "# Get the image file names\n",
    "df['file_name'] = df['file_name'].map(lambda x:x.split('/')[-1].split('.')[0]+'.png')\n",
    "\n",
    "# Include only rows where image exists\n",
    "root_dir = \"<IMAGE_FOLDER>\"\n",
    "yes_image = df['file_name'].map(lambda x: os.path.exists(root_dir + x))\n",
    "df = df[yes_image]\n",
    "\n",
    "# Data was written as byte strings of the form b'string' - evaluate in python then decode to utf-8\n",
    "df['title'] = df['title'].map(lambda x: literal_eval(x).decode('utf-8'))\n",
    "\n",
    "# [Make train-test split]\n",
    "from sklearn.model_selection import train_test_split\n",
    "\n",
    "train_df, test_df = train_test_split(df, test_size=0.001, random_state=42)\n",
    "train_df.reset_index(drop=True, inplace=True)\n",
    "test_df.reset_index(drop=True, inplace=True)\n",
    "\n",
    "train_df.head()"
   ]
  },
  {
   "cell_type": "markdown",
   "metadata": {},
   "source": [
    "Write a dataset class that returns both image and text. Make the same changes to add padding token as seen in the gpt2 pretrainer notebook."
   ]
  },
  {
   "cell_type": "code",
   "execution_count": 3,
   "metadata": {},
   "outputs": [],
   "source": [
    "from torch.utils.data import Dataset\n",
    "from PIL import Image\n",
    "\n",
    "class JACSDataset(Dataset):\n",
    "    def __init__(self, root_dir, df, text_processor, image_processor, max_target_len=128):\n",
    "        self.root_dir = root_dir\n",
    "        self.df = df\n",
    "        self.text_processor = text_processor\n",
    "        self.image_processor = image_processor\n",
    "        self.max_target_len = max_target_len\n",
    "\n",
    "    def __len__(self):\n",
    "        return len(self.df)\n",
    "\n",
    "    def __getitem__(self, idx):\n",
    "        # get file name + title\n",
    "        file_name = self.df['file_name'][idx]\n",
    "        title = self.df['title'][idx] + self.text_processor.eos_token\n",
    "\n",
    "        # prepare image (resize & normalize)\n",
    "        image = Image.open(self.root_dir + file_name).convert(\"RGB\")\n",
    "        pixel_values = self.image_processor(image, return_tensors=\"pt\").pixel_values\n",
    "\n",
    "        labels = self.text_processor(\n",
    "            title,\n",
    "            padding=\"max_length\",\n",
    "            max_length=self.max_target_len,\n",
    "            truncation=True, # Does not auto-truncate\n",
    "            ).input_ids\n",
    "\n",
    "        encoding = {\"pixel_values\": pixel_values.squeeze(), \"labels\": torch.tensor(labels)}\n",
    "        return encoding      \n"
   ]
  },
  {
   "cell_type": "markdown",
   "metadata": {},
   "source": [
    "Initialise processors for images and text "
   ]
  },
  {
   "cell_type": "code",
   "execution_count": 5,
   "metadata": {},
   "outputs": [
    {
     "name": "stderr",
     "output_type": "stream",
     "text": [
      "Special tokens have been added in the vocabulary, make sure the associated word embeddings are fine-tuned or trained.\n",
      "Downloading: 100%|██████████| 276/276 [00:00<00:00, 273kB/s]\n"
     ]
    }
   ],
   "source": [
    "from transformers import BeitFeatureExtractor, GPT2Tokenizer\n",
    "\n",
    "text_processor = GPT2Tokenizer.from_pretrained(\"gpt2\", pad_token=\"<|pad|>\")\n",
    "image_processor = BeitFeatureExtractor.from_pretrained((\"microsoft/beit-base-patch16-224-pt22k-ft22k\"))"
   ]
  },
  {
   "cell_type": "markdown",
   "metadata": {},
   "source": [
    "Initialize our datasets"
   ]
  },
  {
   "cell_type": "code",
   "execution_count": null,
   "metadata": {},
   "outputs": [],
   "source": [
    "train_dataset = JACSDataset(\n",
    "    root_dir=root_dir,\n",
    "    df=train_df,\n",
    "    text_processor=text_processor,\n",
    "    image_processor=image_processor, \n",
    "    max_target_len=128)\n",
    "\n",
    "eval_dataset = JACSDataset(\n",
    "    root_dir=root_dir,\n",
    "    df=test_df,\n",
    "    text_processor=text_processor,\n",
    "    image_processor=image_processor,\n",
    "    max_target_len=128)\n",
    "\n",
    "print(\"Number of training samples:\", len(train_dataset))\n",
    "print(\"Number of eval samples:\", len(eval_dataset))"
   ]
  },
  {
   "cell_type": "markdown",
   "metadata": {},
   "source": [
    "Inspect examples of image and text"
   ]
  },
  {
   "cell_type": "code",
   "execution_count": 7,
   "metadata": {},
   "outputs": [
    {
     "name": "stdout",
     "output_type": "stream",
     "text": [
      "pixel_values torch.Size([3, 224, 224])\n",
      "labels torch.Size([128])\n"
     ]
    }
   ],
   "source": [
    "encoding = train_dataset[42]\n",
    "for k,v in encoding.items():\n",
    "    print(k,v.shape)"
   ]
  },
  {
   "cell_type": "code",
   "execution_count": 8,
   "metadata": {},
   "outputs": [
    {
     "data": {
      "image/png": "[encoded data removed]",
      "text/plain": [
       "<PIL.Image.Image image mode=RGB size=256x256>"
      ]
     },
     "execution_count": 8,
     "metadata": {},
     "output_type": "execute_result"
    }
   ],
   "source": [
    "image = Image.open(train_dataset.root_dir + train_dataset.df['file_name'][42]).convert(\"RGB\")\n",
    "image"
   ]
  },
  {
   "cell_type": "code",
   "execution_count": 9,
   "metadata": {},
   "outputs": [
    {
     "name": "stdout",
     "output_type": "stream",
     "text": [
      "Computational Design of Enhanced Enantioselectivity in Chiral Phosphoric Acid-Catalyzed Oxidative Desymmetrization of 1,3-Diol Acetals\n"
     ]
    }
   ],
   "source": [
    "labels = encoding['labels']\n",
    "label_str = text_processor.decode(labels, skip_special_tokens=True)\n",
    "print(label_str)"
   ]
  },
  {
   "cell_type": "markdown",
   "metadata": {},
   "source": [
    "Initialise a warm-started vision encoder decoder model from a pretrained vision model and a pretrained language model"
   ]
  },
  {
   "cell_type": "code",
   "execution_count": null,
   "metadata": {},
   "outputs": [],
   "source": [
    "from transformers import BeitConfig, GPT2Config, VisionEncoderDecoderConfig, VisionEncoderDecoderModel\n",
    "\n",
    "# load pretrained components\n",
    "config_encoder = BeitConfig.from_pretrained(\"microsoft/beit-base-patch16-224-pt22k-ft22k\")\n",
    "config_decoder = GPT2Config.from_pretrained(\"<LOCAL_PRETRAINED_MODEL_PATH>\")\n",
    "\n",
    "# set decoder config to causal lm\n",
    "config_decoder.is_decoder = True\n",
    "config_decoder.add_cross_attention = True\n",
    "\n",
    "config = VisionEncoderDecoderConfig.from_encoder_decoder_configs(config_encoder, config_decoder)\n",
    "\n",
    "# initializing the model\n",
    "model = VisionEncoderDecoderModel(config=config)\n",
    "\n",
    "# Set various parameters:\n",
    "\n",
    "# set special tokens used for creating the decoder_input_ids from the labels\n",
    "model.config.decoder_start_token_id = text_processor.bos_token_id\n",
    "model.config.pad_token_id = text_processor.pad_token_id\n",
    "\n",
    "# make sure vocab size is set correctly\n",
    "model.config.vocab_size = model.config.decoder.vocab_size\n",
    "\n",
    "# set beam search parameters\n",
    "model.config.eos_token_id = text_processor.eos_token_id\n",
    "model.config.max_length = 64\n",
    "model.config.early_stopping = True\n",
    "model.config.no_repeat_ngram_size = 3\n",
    "model.config.length_penalty = 2.0\n",
    "model.config.num_beams = 4"
   ]
  },
  {
   "cell_type": "markdown",
   "metadata": {},
   "source": [
    "Specify arguments for the sequence-to-sequence trainer"
   ]
  },
  {
   "cell_type": "code",
   "execution_count": 11,
   "metadata": {},
   "outputs": [],
   "source": [
    "from transformers import Seq2SeqTrainer, Seq2SeqTrainingArguments\n",
    "\n",
    "training_args = Seq2SeqTrainingArguments(\n",
    "    num_train_epochs=30,\n",
    "    predict_with_generate=True,\n",
    "    evaluation_strategy=\"steps\",\n",
    "    save_strategy='steps',\n",
    "    per_device_train_batch_size=8,\n",
    "    per_device_eval_batch_size=8,\n",
    "    fp16=True, \n",
    "    output_dir=\"<OUTPUT_DIR>\",\n",
    "    logging_steps=2,\n",
    "    save_steps=10000,\n",
    "    eval_steps=1000\n",
    ")\n"
   ]
  },
  {
   "cell_type": "markdown",
   "metadata": {},
   "source": [
    "Choose an appropriate metric to evaluate the model. (See: https://huggingface.co/docs/evaluate/choosing_a_metric)\n",
    "\n",
    "For this model, language metrics are appropriate as the output is text."
   ]
  },
  {
   "cell_type": "code",
   "execution_count": 12,
   "metadata": {},
   "outputs": [
    {
     "name": "stderr",
     "output_type": "stream",
     "text": [
      "[nltk_data] Downloading package wordnet to\n",
      "[nltk_data]     C:\\Users\\y_w_u\\AppData\\Roaming\\nltk_data...\n",
      "[nltk_data]   Package wordnet is already up-to-date!\n",
      "[nltk_data] Downloading package punkt to\n",
      "[nltk_data]     C:\\Users\\y_w_u\\AppData\\Roaming\\nltk_data...\n",
      "[nltk_data]   Package punkt is already up-to-date!\n",
      "[nltk_data] Downloading package omw-1.4 to\n",
      "[nltk_data]     C:\\Users\\y_w_u\\AppData\\Roaming\\nltk_data...\n",
      "[nltk_data]   Package omw-1.4 is already up-to-date!\n"
     ]
    }
   ],
   "source": [
    "from datasets import load_metric\n",
    "import numpy as np\n",
    "\n",
    "metric = load_metric(\"meteor\")\n",
    "\n",
    "def postprocess_text(preds, labels):\n",
    "    preds = [pred.strip() for pred in preds]\n",
    "    labels = [[label.strip()] for label in labels]\n",
    "\n",
    "    return preds, labels\n",
    "\n",
    "def compute_metrics(eval_preds):\n",
    "    preds, labels = eval_preds\n",
    "    if isinstance(preds, tuple):\n",
    "        preds = preds[0]\n",
    "    decoded_preds = text_processor.batch_decode(preds, skip_special_tokens=True)\n",
    "    labels = np.where(labels != -100, labels, text_processor.pad_token_id)\n",
    "    decoded_labels = text_processor.batch_decode(labels, skip_special_tokens=True)\n",
    "\n",
    "    # Some simple post-processing\n",
    "    decoded_preds, decoded_labels = postprocess_text(decoded_preds, decoded_labels)\n",
    "\n",
    "    result = metric.compute(predictions=decoded_preds, references=decoded_labels)\n",
    "    result = {\"meteor\": result[\"meteor\"]}\n",
    "\n",
    "    prediction_lens = [np.count_nonzero(pred != text_processor.pad_token_id) for pred in preds]\n",
    "    result[\"gen_len\"] = np.mean(prediction_lens)\n",
    "    result = {k: round(v, 4) for k, v in result.items()}\n",
    "    return result\n"
   ]
  },
  {
   "cell_type": "markdown",
   "metadata": {},
   "source": [
    "Initialize the trainer and run.\n",
    "\n",
    "**Note:** this is better converted to a python script than a notebook, the cell output can become very long leading to crashes"
   ]
  },
  {
   "cell_type": "code",
   "execution_count": null,
   "metadata": {},
   "outputs": [],
   "source": [
    "from transformers import default_data_collator\n",
    "\n",
    "# Instantiate trainer\n",
    "trainer = Seq2SeqTrainer(\n",
    "    model=model,\n",
    "    tokenizer=image_processor,\n",
    "    args=training_args,\n",
    "    data_collator=default_data_collator,\n",
    "    compute_metrics=compute_metrics,\n",
    "    train_dataset=train_dataset,\n",
    "    eval_dataset=eval_dataset\n",
    ")\n",
    "\n",
    "trainer.train()"
   ]
  },
  {
   "cell_type": "markdown",
   "metadata": {},
   "source": [
    "To save the model to local folder"
   ]
  },
  {
   "cell_type": "code",
   "execution_count": null,
   "metadata": {},
   "outputs": [],
   "source": [
    "model.save_pretrained(\"<LOCAL_FOLDER>\")"
   ]
  },
  {
   "cell_type": "markdown",
   "metadata": {},
   "source": [
    "Further thoughts on evaluation metrics\n",
    "https://towardsdatascience.com/how-to-evaluate-text-generation-models-metrics-for-automatic-evaluation-of-nlp-models-e1c251b04ec1\n",
    "\n",
    "* BLEU/Rouge/SacreBLEU - translation metrics\n",
    "* Perplexity - lower is better\n",
    "* LSA - latent semantic analysis - semantic similarity\n",
    "* METEOR - less commonly used\n",
    "* TER - translation edit rate\n"
   ]
  }
 ],
 "metadata": {
  "kernelspec": {
   "display_name": "Python 3 (ipykernel)",
   "language": "python",
   "name": "python3"
  },
  "language_info": {
   "codemirror_mode": {
    "name": "ipython",
    "version": 3
   },
   "file_extension": ".py",
   "mimetype": "text/x-python",
   "name": "python",
   "nbconvert_exporter": "python",
   "pygments_lexer": "ipython3",
   "version": "3.8.13"
  },
  "vscode": {
   "interpreter": {
    "hash": "bf7f35d8ebf284349bb5a3f392dfedeaab9cb236cac86ce1ffb0fbd472ccf58a"
   }
  }
 },
 "nbformat": 4,
 "nbformat_minor": 2
}
